{
 "cells": [
  {
   "cell_type": "code",
   "execution_count": null,
   "id": "dcc15c55",
   "metadata": {},
   "outputs": [],
   "source": [
    "# !pip install hatchet"
   ]
  },
  {
   "cell_type": "code",
   "execution_count": 2,
   "id": "294bdc34",
   "metadata": {},
   "outputs": [],
   "source": [
    "import hatchet as ht\n",
    "cprofile = 'cprofile_roundabout.pstats'"
   ]
  },
  {
   "cell_type": "code",
   "execution_count": null,
   "id": "7a95149a",
   "metadata": {},
   "outputs": [],
   "source": [
    "graphframe = ht.GraphFrame.from_cprofile(\"cprofile_roundabout.pstats\")\n"
   ]
  }
 ],
 "metadata": {
  "kernelspec": {
   "display_name": "Python 3 (ipykernel)",
   "language": "python",
   "name": "python3"
  },
  "language_info": {
   "codemirror_mode": {
    "name": "ipython",
    "version": 3
   },
   "file_extension": ".py",
   "mimetype": "text/x-python",
   "name": "python",
   "nbconvert_exporter": "python",
   "pygments_lexer": "ipython3",
   "version": "3.8.16"
  }
 },
 "nbformat": 4,
 "nbformat_minor": 5
}
